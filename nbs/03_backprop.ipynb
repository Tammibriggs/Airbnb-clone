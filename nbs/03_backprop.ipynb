{
  "cells": [
    {
      "cell_type": "markdown",
      "metadata": {
        "id": "LUjVwhNMjZ3c"
      },
      "source": [
        "## The forward and backward passes"
      ]
    },
    {
      "cell_type": "code",
      "execution_count": 24,
      "metadata": {
        "id": "KgkBA59zjZ3f"
      },
      "outputs": [],
      "source": [
        "import pickle,gzip,math,os,time,shutil,torch,matplotlib as mpl, numpy as np\n",
        "from pathlib import Path\n",
        "from torch import tensor\n",
        "from fastcore.test import test_close\n",
        "torch.manual_seed(42)\n",
        "\n",
        "mpl.rcParams['image.cmap'] = 'gray'\n",
        "torch.set_printoptions(precision=2, linewidth=125, sci_mode=False)\n",
        "np.set_printoptions(precision=2, linewidth=125)"
      ]
    },
    {
      "cell_type": "code",
      "source": [
        "MNIST_URL='https://github.com/mnielsen/neural-networks-and-deep-learning/blob/master/data/mnist.pkl.gz?raw=true'\n",
        "path_data = Path('data')\n",
        "path_data.mkdir(exist_ok=True)\n",
        "path_gz = path_data/'mnist.pkl.gz'"
      ],
      "metadata": {
        "id": "RXv6i4xfkQkM"
      },
      "execution_count": 25,
      "outputs": []
    },
    {
      "cell_type": "code",
      "source": [
        "from urllib.request import urlretrieve\n",
        "if not path_gz.exists(): urlretrieve(MNIST_URL, path_gz)"
      ],
      "metadata": {
        "id": "8wPwhVCgkeSu"
      },
      "execution_count": 26,
      "outputs": []
    },
    {
      "cell_type": "code",
      "source": [
        "with gzip.open(path_gz, 'rb') as f: ((x_train, y_train), (x_valid, y_valid), _) = pickle.load(f, encoding='latin-1')\n",
        "x_train, y_train, x_valid, y_valid = map(tensor, [x_train, y_train, x_valid, y_valid])"
      ],
      "metadata": {
        "id": "FzQ9GNN0kOVz"
      },
      "execution_count": 27,
      "outputs": []
    },
    {
      "cell_type": "code",
      "source": [
        "x_valid.shape"
      ],
      "metadata": {
        "id": "JeZGyNB3jgwN",
        "outputId": "0bf11750-112e-413c-f692-bd47bce9ae2f",
        "colab": {
          "base_uri": "https://localhost:8080/"
        }
      },
      "execution_count": 28,
      "outputs": [
        {
          "output_type": "execute_result",
          "data": {
            "text/plain": [
              "torch.Size([10000, 784])"
            ]
          },
          "metadata": {},
          "execution_count": 28
        }
      ]
    },
    {
      "cell_type": "markdown",
      "metadata": {
        "id": "AHzVF5TKjZ3h"
      },
      "source": [
        "## Foundations version"
      ]
    },
    {
      "cell_type": "markdown",
      "metadata": {
        "id": "B7LnhBFSjZ3h"
      },
      "source": [
        "### Basic architecture"
      ]
    },
    {
      "cell_type": "code",
      "execution_count": 29,
      "metadata": {
        "id": "iIZDy5AKjZ3h",
        "outputId": "a3100317-945f-424e-be4c-04af1673b909",
        "colab": {
          "base_uri": "https://localhost:8080/"
        }
      },
      "outputs": [
        {
          "output_type": "execute_result",
          "data": {
            "text/plain": [
              "(50000, 784, tensor(10))"
            ]
          },
          "metadata": {},
          "execution_count": 29
        }
      ],
      "source": [
        "n,m = x_train.shape\n",
        "c = y_train.max()+1\n",
        "n,m,c"
      ]
    },
    {
      "cell_type": "code",
      "execution_count": 30,
      "metadata": {
        "id": "XsMlPeG8jZ3i"
      },
      "outputs": [],
      "source": [
        "# num hidden\n",
        "nh = 50"
      ]
    },
    {
      "cell_type": "code",
      "execution_count": 31,
      "metadata": {
        "id": "ZowTvYnmjZ3i"
      },
      "outputs": [],
      "source": [
        "w1 = torch.randn(m,nh)\n",
        "b1 = torch.zeros(nh)\n",
        "w2 = torch.randn(nh,1)\n",
        "b2 = torch.zeros(1)"
      ]
    },
    {
      "cell_type": "code",
      "source": [
        "w1.shape"
      ],
      "metadata": {
        "id": "t8WAOVpUpyJ7",
        "outputId": "cadf9303-b2c9-4f15-d620-a65e1b07fb9c",
        "colab": {
          "base_uri": "https://localhost:8080/"
        }
      },
      "execution_count": 32,
      "outputs": [
        {
          "output_type": "execute_result",
          "data": {
            "text/plain": [
              "torch.Size([784, 50])"
            ]
          },
          "metadata": {},
          "execution_count": 32
        }
      ]
    },
    {
      "cell_type": "code",
      "execution_count": 33,
      "metadata": {
        "id": "6lUxgaGtjZ3j"
      },
      "outputs": [],
      "source": [
        "def lin(x, w, b): return x@w + b"
      ]
    },
    {
      "cell_type": "code",
      "execution_count": 34,
      "metadata": {
        "id": "L11aCkckjZ3j",
        "outputId": "feff4926-5b2f-45ec-b05f-fdca08da7fbf",
        "colab": {
          "base_uri": "https://localhost:8080/"
        }
      },
      "outputs": [
        {
          "output_type": "execute_result",
          "data": {
            "text/plain": [
              "tensor([[ -0.09,  11.87, -11.39,  ...,   5.48,   2.14,  15.30],\n",
              "        [  5.38,  10.21, -14.49,  ...,   0.88,   0.08,  20.23],\n",
              "        [  3.31,   0.12,   3.10,  ...,  16.89,  -6.05,  24.74],\n",
              "        ...,\n",
              "        [  4.01,  10.35, -11.25,  ...,   0.23,  -5.30,  18.28],\n",
              "        [ 10.62,  -4.27,  10.72,  ...,  -2.87,  -2.87,  18.23],\n",
              "        [  2.84,  -0.22,   1.43,  ...,  -3.91,   5.75,   2.12]])"
            ]
          },
          "metadata": {},
          "execution_count": 34
        }
      ],
      "source": [
        "t = lin(x_valid, w1, b1)\n",
        "t"
      ]
    },
    {
      "cell_type": "code",
      "execution_count": 35,
      "metadata": {
        "id": "Gl3HjrdBjZ3k"
      },
      "outputs": [],
      "source": [
        "def relu(x): return x.clamp_min(0.)"
      ]
    },
    {
      "cell_type": "code",
      "execution_count": 36,
      "metadata": {
        "id": "-5Ngo4ubjZ3k",
        "outputId": "179d2dff-3490-41f6-dfcb-5ef261568a0c",
        "colab": {
          "base_uri": "https://localhost:8080/"
        }
      },
      "outputs": [
        {
          "output_type": "execute_result",
          "data": {
            "text/plain": [
              "tensor([[ 0.00, 11.87,  0.00,  ...,  5.48,  2.14, 15.30],\n",
              "        [ 5.38, 10.21,  0.00,  ...,  0.88,  0.08, 20.23],\n",
              "        [ 3.31,  0.12,  3.10,  ..., 16.89,  0.00, 24.74],\n",
              "        ...,\n",
              "        [ 4.01, 10.35,  0.00,  ...,  0.23,  0.00, 18.28],\n",
              "        [10.62,  0.00, 10.72,  ...,  0.00,  0.00, 18.23],\n",
              "        [ 2.84,  0.00,  1.43,  ...,  0.00,  5.75,  2.12]])"
            ]
          },
          "metadata": {},
          "execution_count": 36
        }
      ],
      "source": [
        "t = relu(t)\n",
        "t"
      ]
    },
    {
      "cell_type": "code",
      "execution_count": 37,
      "metadata": {
        "id": "s2OsHbIsjZ3k"
      },
      "outputs": [],
      "source": [
        "def model(xb):\n",
        "    l1 = lin(xb, w1, b1)\n",
        "    l2 = relu(l1)\n",
        "    return lin(l2, w2, b2)"
      ]
    },
    {
      "cell_type": "code",
      "execution_count": 38,
      "metadata": {
        "id": "dDLbFPSpjZ3l",
        "outputId": "52211f9f-9008-4258-bb55-dc26c86eee8f",
        "colab": {
          "base_uri": "https://localhost:8080/"
        }
      },
      "outputs": [
        {
          "output_type": "execute_result",
          "data": {
            "text/plain": [
              "torch.Size([10000, 1])"
            ]
          },
          "metadata": {},
          "execution_count": 38
        }
      ],
      "source": [
        "res = model(x_valid)\n",
        "res.shape"
      ]
    },
    {
      "cell_type": "markdown",
      "metadata": {
        "id": "lCGCx42VjZ3m"
      },
      "source": [
        "### Loss function: MSE"
      ]
    },
    {
      "cell_type": "markdown",
      "metadata": {
        "id": "riAdc4MxjZ3m"
      },
      "source": [
        "(Of course, `mse` is not a suitable loss function for multi-class classification; we'll use a better loss function soon. We'll use `mse` for now to keep things simple.)"
      ]
    },
    {
      "cell_type": "code",
      "execution_count": 39,
      "metadata": {
        "id": "XFluH5O5jZ3n",
        "outputId": "a8ade9c9-92f8-4005-fe72-8479ca7daa62",
        "colab": {
          "base_uri": "https://localhost:8080/"
        }
      },
      "outputs": [
        {
          "output_type": "execute_result",
          "data": {
            "text/plain": [
              "(torch.Size([10000, 1]), torch.Size([10000]))"
            ]
          },
          "metadata": {},
          "execution_count": 39
        }
      ],
      "source": [
        "res.shape,y_valid.shape"
      ]
    },
    {
      "cell_type": "code",
      "execution_count": 41,
      "metadata": {
        "id": "60LV_CvojZ3o",
        "outputId": "06bc4a3f-58e9-4f95-ae2a-5ed00051a86c",
        "colab": {
          "base_uri": "https://localhost:8080/"
        }
      },
      "outputs": [
        {
          "output_type": "execute_result",
          "data": {
            "text/plain": [
              "torch.Size([10000, 10000])"
            ]
          },
          "metadata": {},
          "execution_count": 41
        }
      ],
      "source": [
        "(res-y_valid).shape"
      ]
    },
    {
      "cell_type": "markdown",
      "metadata": {
        "id": "QuboOQxxjZ3o"
      },
      "source": [
        "We need to get rid of that trailing (,1), in order to use `mse`."
      ]
    },
    {
      "cell_type": "code",
      "execution_count": 42,
      "metadata": {
        "id": "EzsY5iMDjZ3o",
        "outputId": "c34e4442-58b0-4abc-fbc9-8de83b30b37b",
        "colab": {
          "base_uri": "https://localhost:8080/"
        }
      },
      "outputs": [
        {
          "output_type": "execute_result",
          "data": {
            "text/plain": [
              "torch.Size([10000])"
            ]
          },
          "metadata": {},
          "execution_count": 42
        }
      ],
      "source": [
        "res[:,0].shape"
      ]
    },
    {
      "cell_type": "code",
      "execution_count": 43,
      "metadata": {
        "id": "VKNlIruvjZ3p",
        "outputId": "719a2128-4920-4b17-dab3-7caa5f136594",
        "colab": {
          "base_uri": "https://localhost:8080/"
        }
      },
      "outputs": [
        {
          "output_type": "execute_result",
          "data": {
            "text/plain": [
              "torch.Size([10000])"
            ]
          },
          "metadata": {},
          "execution_count": 43
        }
      ],
      "source": [
        "res.squeeze().shape"
      ]
    },
    {
      "cell_type": "code",
      "execution_count": 44,
      "metadata": {
        "id": "XeW68T_ojZ3p",
        "outputId": "554a5f61-e430-4800-9a85-eaec08d36c2d",
        "colab": {
          "base_uri": "https://localhost:8080/"
        }
      },
      "outputs": [
        {
          "output_type": "execute_result",
          "data": {
            "text/plain": [
              "torch.Size([10000])"
            ]
          },
          "metadata": {},
          "execution_count": 44
        }
      ],
      "source": [
        "(res[:,0]-y_valid).shape"
      ]
    },
    {
      "cell_type": "code",
      "execution_count": 45,
      "metadata": {
        "id": "NqBMc-JUjZ3p",
        "outputId": "3765e8cb-a59d-4e00-d663-12d520c09620",
        "colab": {
          "base_uri": "https://localhost:8080/"
        }
      },
      "outputs": [
        {
          "output_type": "execute_result",
          "data": {
            "text/plain": [
              "torch.Size([50000, 1])"
            ]
          },
          "metadata": {},
          "execution_count": 45
        }
      ],
      "source": [
        "y_train,y_valid = y_train.float(),y_valid.float()\n",
        "\n",
        "preds = model(x_train)\n",
        "preds.shape"
      ]
    },
    {
      "cell_type": "code",
      "execution_count": 46,
      "metadata": {
        "id": "CnJvpuxKjZ3q"
      },
      "outputs": [],
      "source": [
        "def mse(output, targ): return (output[:,0]-targ).pow(2).mean()"
      ]
    },
    {
      "cell_type": "code",
      "source": [],
      "metadata": {
        "id": "hwNbwImz4RnR"
      },
      "execution_count": null,
      "outputs": []
    },
    {
      "cell_type": "code",
      "execution_count": 47,
      "metadata": {
        "id": "jdFnIFFWjZ3q",
        "outputId": "86997191-98e3-46e0-ca5f-ee8749b44ca6",
        "colab": {
          "base_uri": "https://localhost:8080/"
        }
      },
      "outputs": [
        {
          "output_type": "execute_result",
          "data": {
            "text/plain": [
              "tensor(4308.76)"
            ]
          },
          "metadata": {},
          "execution_count": 47
        }
      ],
      "source": [
        "mse(preds, y_train)"
      ]
    },
    {
      "cell_type": "markdown",
      "metadata": {
        "id": "gU6WnwFCjZ3r"
      },
      "source": [
        "### Gradients and backward pass"
      ]
    },
    {
      "cell_type": "code",
      "execution_count": 48,
      "metadata": {
        "id": "D7N8-jY9jZ3r",
        "outputId": "86377935-6355-49df-f74c-be5fcddc9fc2",
        "colab": {
          "base_uri": "https://localhost:8080/",
          "height": 38
        }
      },
      "outputs": [
        {
          "output_type": "execute_result",
          "data": {
            "text/plain": [
              "2*x"
            ],
            "text/latex": "$\\displaystyle 2 x$"
          },
          "metadata": {},
          "execution_count": 48
        }
      ],
      "source": [
        "from sympy import symbols,diff\n",
        "x,y = symbols('x y')\n",
        "diff(x**2, x)"
      ]
    },
    {
      "cell_type": "code",
      "source": [],
      "metadata": {
        "id": "ggbUOG-d4lYg"
      },
      "execution_count": null,
      "outputs": []
    },
    {
      "cell_type": "code",
      "execution_count": 51,
      "metadata": {
        "id": "lZMGxK7hjZ3r",
        "outputId": "dd9f51ea-d2bc-4a7e-8dfa-173e8d984fb2",
        "colab": {
          "base_uri": "https://localhost:8080/",
          "height": 38
        }
      },
      "outputs": [
        {
          "output_type": "execute_result",
          "data": {
            "text/plain": [
              "6*x"
            ],
            "text/latex": "$\\displaystyle 6 x$"
          },
          "metadata": {},
          "execution_count": 51
        }
      ],
      "source": [
        "diff(3*x**2+9, x)"
      ]
    },
    {
      "cell_type": "code",
      "execution_count": null,
      "metadata": {
        "id": "RncErfeNjZ3r"
      },
      "outputs": [],
      "source": [
        "def lin_grad(inp, out, w, b):\n",
        "    # grad of matmul with respect to input\n",
        "    inp.g = out.g @ w.t()\n",
        "    w.g = (inp.unsqueeze(-1) * out.g.unsqueeze(1)).sum(0)\n",
        "    b.g = out.g.sum(0)"
      ]
    },
    {
      "cell_type": "code",
      "execution_count": null,
      "metadata": {
        "id": "L7BC5SXujZ3s"
      },
      "outputs": [],
      "source": [
        "def forward_and_backward(inp, targ):\n",
        "    # forward pass:\n",
        "    l1 = lin(inp, w1, b1)\n",
        "    l2 = relu(l1)\n",
        "    out = lin(l2, w2, b2)\n",
        "    diff = out[:,0]-targ\n",
        "    loss = diff.pow(2).mean()\n",
        "\n",
        "    # backward pass:\n",
        "    out.g = 2.*diff[:,None] / inp.shape[0]\n",
        "    lin_grad(l2, out, w2, b2)\n",
        "    l1.g = (l1>0).float() * l2.g\n",
        "    lin_grad(inp, l1, w1, b1)"
      ]
    },
    {
      "cell_type": "code",
      "execution_count": null,
      "metadata": {
        "id": "60aYnG6qjZ3s"
      },
      "outputs": [],
      "source": [
        "forward_and_backward(x_train, y_train)"
      ]
    },
    {
      "cell_type": "code",
      "execution_count": null,
      "metadata": {
        "id": "58zNoqRljZ3s"
      },
      "outputs": [],
      "source": [
        "# Save for testing against later\n",
        "def get_grad(x): return x.g.clone()\n",
        "chks = w1,w2,b1,b2,x_train\n",
        "grads = w1g,w2g,b1g,b2g,ig = tuple(map(get_grad, chks))"
      ]
    },
    {
      "cell_type": "markdown",
      "metadata": {
        "id": "uF2DIssMjZ3s"
      },
      "source": [
        "We cheat a little bit and use PyTorch autograd to check our results."
      ]
    },
    {
      "cell_type": "code",
      "execution_count": null,
      "metadata": {
        "id": "ST6bpa5YjZ3t"
      },
      "outputs": [],
      "source": [
        "def mkgrad(x): return x.clone().requires_grad_(True)\n",
        "ptgrads = w12,w22,b12,b22,xt2 = tuple(map(mkgrad, chks))"
      ]
    },
    {
      "cell_type": "code",
      "execution_count": null,
      "metadata": {
        "id": "QQOhk_gQjZ3t"
      },
      "outputs": [],
      "source": [
        "def forward(inp, targ):\n",
        "    l1 = lin(inp, w12, b12)\n",
        "    l2 = relu(l1)\n",
        "    out = lin(l2, w22, b22)\n",
        "    return mse(out, targ)"
      ]
    },
    {
      "cell_type": "code",
      "execution_count": null,
      "metadata": {
        "id": "u7g-Z0lOjZ3t"
      },
      "outputs": [],
      "source": [
        "loss = forward(xt2, y_train)\n",
        "loss.backward()"
      ]
    },
    {
      "cell_type": "code",
      "execution_count": null,
      "metadata": {
        "id": "GENwEB15jZ3t"
      },
      "outputs": [],
      "source": [
        "for a,b in zip(grads, ptgrads): test_close(a, b.grad, eps=0.01)"
      ]
    },
    {
      "cell_type": "markdown",
      "metadata": {
        "id": "auNcuqvUjZ3u"
      },
      "source": [
        "## Refactor model"
      ]
    },
    {
      "cell_type": "markdown",
      "metadata": {
        "id": "D1aj9MikjZ3u"
      },
      "source": [
        "### Layers as classes"
      ]
    },
    {
      "cell_type": "code",
      "execution_count": null,
      "metadata": {
        "id": "YzbRvBzkjZ3u"
      },
      "outputs": [],
      "source": [
        "class Relu():\n",
        "    def __call__(self, inp):\n",
        "        self.inp = inp\n",
        "        self.out = inp.clamp_min(0.)\n",
        "        return self.out\n",
        "\n",
        "    def backward(self): self.inp.g = (self.inp>0).float() * self.out.g"
      ]
    },
    {
      "cell_type": "code",
      "execution_count": null,
      "metadata": {
        "id": "eV3zbQdsjZ36"
      },
      "outputs": [],
      "source": [
        "class Lin():\n",
        "    def __init__(self, w, b): self.w,self.b = w,b\n",
        "\n",
        "    def __call__(self, inp):\n",
        "        self.inp = inp\n",
        "        self.out = lin(inp, self.w, self.b)\n",
        "        return self.out\n",
        "\n",
        "    def backward(self):\n",
        "        self.inp.g = self.out.g @ self.w.t()\n",
        "        self.w.g = self.inp.t() @ self.out.g\n",
        "        self.b.g = self.out.g.sum(0)"
      ]
    },
    {
      "cell_type": "code",
      "execution_count": null,
      "metadata": {
        "id": "xSq3owhtjZ37"
      },
      "outputs": [],
      "source": [
        "class Mse():\n",
        "    def __call__(self, inp, targ):\n",
        "        self.inp,self.targ = inp,targ\n",
        "        self.out = mse(inp, targ)\n",
        "        return self.out\n",
        "\n",
        "    def backward(self):\n",
        "        self.inp.g = 2. * (self.inp.squeeze() - self.targ).unsqueeze(-1) / self.targ.shape[0]"
      ]
    },
    {
      "cell_type": "code",
      "execution_count": null,
      "metadata": {
        "id": "lcp082sajZ37"
      },
      "outputs": [],
      "source": [
        "class Model():\n",
        "    def __init__(self, w1, b1, w2, b2):\n",
        "        self.layers = [Lin(w1,b1), Relu(), Lin(w2,b2)]\n",
        "        self.loss = Mse()\n",
        "\n",
        "    def __call__(self, x, targ):\n",
        "        for l in self.layers: x = l(x)\n",
        "        return self.loss(x, targ)\n",
        "\n",
        "    def backward(self):\n",
        "        self.loss.backward()\n",
        "        for l in reversed(self.layers): l.backward()"
      ]
    },
    {
      "cell_type": "code",
      "execution_count": null,
      "metadata": {
        "id": "MdEiwIt4jZ37"
      },
      "outputs": [],
      "source": [
        "model = Model(w1, b1, w2, b2)"
      ]
    },
    {
      "cell_type": "code",
      "execution_count": null,
      "metadata": {
        "id": "27rsCN6UjZ38"
      },
      "outputs": [],
      "source": [
        "loss = model(x_train, y_train)"
      ]
    },
    {
      "cell_type": "code",
      "execution_count": null,
      "metadata": {
        "id": "szWi6RKfjZ38"
      },
      "outputs": [],
      "source": [
        "model.backward()"
      ]
    },
    {
      "cell_type": "code",
      "execution_count": null,
      "metadata": {
        "id": "iMea3dpVjZ38"
      },
      "outputs": [],
      "source": [
        "test_close(w2g, w2.g, eps=0.01)\n",
        "test_close(b2g, b2.g, eps=0.01)\n",
        "test_close(w1g, w1.g, eps=0.01)\n",
        "test_close(b1g, b1.g, eps=0.01)\n",
        "test_close(ig, x_train.g, eps=0.01)"
      ]
    },
    {
      "cell_type": "markdown",
      "metadata": {
        "id": "QbDGY95NjZ38"
      },
      "source": [
        "### Module.forward()"
      ]
    },
    {
      "cell_type": "code",
      "execution_count": null,
      "metadata": {
        "id": "OmgeQHOzjZ38"
      },
      "outputs": [],
      "source": [
        "class Module():\n",
        "    def __call__(self, *args):\n",
        "        self.args = args\n",
        "        self.out = self.forward(*args)\n",
        "        return self.out\n",
        "\n",
        "    def forward(self): raise Exception('not implemented')\n",
        "    def backward(self): self.bwd(self.out, *self.args)\n",
        "    def bwd(self): raise Exception('not implemented')"
      ]
    },
    {
      "cell_type": "code",
      "execution_count": null,
      "metadata": {
        "id": "GTAqJ7CSjZ38"
      },
      "outputs": [],
      "source": [
        "class Relu(Module):\n",
        "    def forward(self, inp): return inp.clamp_min(0.)\n",
        "    def bwd(self, out, inp): inp.g = (inp>0).float() * out.g"
      ]
    },
    {
      "cell_type": "code",
      "execution_count": null,
      "metadata": {
        "id": "F_r0tibZjZ39"
      },
      "outputs": [],
      "source": [
        "class Lin(Module):\n",
        "    def __init__(self, w, b): self.w,self.b = w,b\n",
        "    def forward(self, inp): return inp@self.w + self.b\n",
        "    def bwd(self, out, inp):\n",
        "        inp.g = self.out.g @ self.w.t()\n",
        "        self.w.g = inp.t() @ self.out.g\n",
        "        self.b.g = self.out.g.sum(0)"
      ]
    },
    {
      "cell_type": "code",
      "execution_count": null,
      "metadata": {
        "id": "Iy9W3lOFjZ39"
      },
      "outputs": [],
      "source": [
        "class Mse(Module):\n",
        "    def forward (self, inp, targ): return (inp.squeeze() - targ).pow(2).mean()\n",
        "    def bwd(self, out, inp, targ): inp.g = 2*(inp.squeeze()-targ).unsqueeze(-1) / targ.shape[0]"
      ]
    },
    {
      "cell_type": "code",
      "execution_count": null,
      "metadata": {
        "id": "LC_v6SSjjZ39"
      },
      "outputs": [],
      "source": [
        "model = Model(w1, b1, w2, b2)"
      ]
    },
    {
      "cell_type": "code",
      "execution_count": null,
      "metadata": {
        "id": "H-OBuxk3jZ3-"
      },
      "outputs": [],
      "source": [
        "loss = model(x_train, y_train)"
      ]
    },
    {
      "cell_type": "code",
      "execution_count": null,
      "metadata": {
        "id": "PdX-OTm_jZ3-"
      },
      "outputs": [],
      "source": [
        "model.backward()"
      ]
    },
    {
      "cell_type": "code",
      "execution_count": null,
      "metadata": {
        "id": "edrC8pb-jZ3_"
      },
      "outputs": [],
      "source": [
        "test_close(w2g, w2.g, eps=0.01)\n",
        "test_close(b2g, b2.g, eps=0.01)\n",
        "test_close(w1g, w1.g, eps=0.01)\n",
        "test_close(b1g, b1.g, eps=0.01)\n",
        "test_close(ig, x_train.g, eps=0.01)"
      ]
    },
    {
      "cell_type": "markdown",
      "metadata": {
        "id": "6453KjhIjZ4A"
      },
      "source": [
        "### Autograd"
      ]
    },
    {
      "cell_type": "code",
      "execution_count": null,
      "metadata": {
        "id": "fhEAFw5hjZ4A"
      },
      "outputs": [],
      "source": [
        "from torch import nn\n",
        "import torch.nn.functional as F"
      ]
    },
    {
      "cell_type": "code",
      "execution_count": null,
      "metadata": {
        "id": "ohlhjus0jZ4B"
      },
      "outputs": [],
      "source": [
        "class Linear(nn.Module):\n",
        "    def __init__(self, n_in, n_out):\n",
        "        super().__init__()\n",
        "        self.w = torch.randn(n_in,n_out).requires_grad_()\n",
        "        self.b = torch.zeros(n_out).requires_grad_()\n",
        "    def forward(self, inp): return inp@self.w + self.b"
      ]
    },
    {
      "cell_type": "code",
      "execution_count": null,
      "metadata": {
        "id": "m18p72LljZ4B"
      },
      "outputs": [],
      "source": [
        "class Model(nn.Module):\n",
        "    def __init__(self, n_in, nh, n_out):\n",
        "        super().__init__()\n",
        "        self.layers = [Linear(n_in,nh), nn.ReLU(), Linear(nh,n_out)]\n",
        "\n",
        "    def __call__(self, x, targ):\n",
        "        for l in self.layers: x = l(x)\n",
        "        return F.mse_loss(x, targ[:,None])"
      ]
    },
    {
      "cell_type": "code",
      "execution_count": null,
      "metadata": {
        "id": "bYW0Le3_jZ4B"
      },
      "outputs": [],
      "source": [
        "model = Model(m, nh, 1)\n",
        "loss = model(x_train, y_train)\n",
        "loss.backward()"
      ]
    },
    {
      "cell_type": "code",
      "execution_count": null,
      "metadata": {
        "id": "yjDtZb1fjZ4C",
        "outputId": "d82b36ef-7d4f-4e7e-b11c-82f5ad704e61"
      },
      "outputs": [
        {
          "data": {
            "text/plain": [
              "tensor([-19.60,  -2.40,  -0.12,   1.99,  12.78, -15.32, -18.45,   0.35,   3.75,  14.67,  10.81,  12.20,  -2.95, -28.33,\n",
              "          0.76,  69.15, -21.86,  49.78,  -7.08,   1.45,  25.20,  11.27, -18.15, -13.13, -17.69, -10.42,  -0.13, -18.89,\n",
              "        -34.81,  -0.84,  40.89,   4.45,  62.35,  31.70,  55.15,  45.13,   3.25,  12.75,  12.45,  -1.41,   4.55,  -6.02,\n",
              "        -62.51,  -1.89,  -1.41,   7.00,   0.49,  18.72,  -4.84,  -6.52])"
            ]
          },
          "execution_count": null,
          "metadata": {},
          "output_type": "execute_result"
        }
      ],
      "source": [
        "l0 = model.layers[0]\n",
        "l0.b.grad"
      ]
    },
    {
      "cell_type": "code",
      "execution_count": null,
      "metadata": {
        "id": "_OCXDqNsjZ4C"
      },
      "outputs": [],
      "source": []
    }
  ],
  "metadata": {
    "kernelspec": {
      "display_name": "Python 3 (ipykernel)",
      "language": "python",
      "name": "python3"
    },
    "colab": {
      "provenance": []
    }
  },
  "nbformat": 4,
  "nbformat_minor": 0
}